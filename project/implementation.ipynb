{
 "cells": [
  {
   "cell_type": "markdown",
   "metadata": {},
   "source": [
    "# Contoh Implementasi dari Package MSAMSOA\n",
    "\n",
    "## Daftar Isi\n",
    "- [Persiapan](#persiapan)\n",
    "- [Data Masukan](#data)\n",
    "- [Simulasi](#simulasi)\n",
    "- [Visualisasi](#visualisasi)"
   ]
  },
  {
   "cell_type": "markdown",
   "metadata": {},
   "source": [
    "## Persiapan\n",
    "\n",
    "Projek baru perlu ditempatkan di folder msamsoa/projek untuk dapat menggunakan package msamsoa sama dengan notebook ini. Sel pada langkah persiapan perlu dijalankan di setiap notebook baru untuk memastikan semua modul sudah di-import dengan baik. Jika ingin membuat notebook di direktori lain, sesuaikan path untuk import module."
   ]
  },
  {
   "cell_type": "code",
   "execution_count": 8,
   "metadata": {},
   "outputs": [],
   "source": [
    "import sys\n",
    "sys.path.append(\"..\")\n",
    "\n",
    "# Modul Data\n",
    "from msamsoa.utils import example as ex\n",
    "\n",
    "# Modul Simulasi\n",
    "from msamsoa.algorithm.samsoa import SAMSOA_Problem\n",
    "from msamsoa.algorithm.zs import ZS_Problem\n",
    "\n",
    "# Modul Visualisasi\n",
    "from msamsoa.utils import visualizer"
   ]
  },
  {
   "cell_type": "code",
   "execution_count": null,
   "metadata": {},
   "outputs": [],
   "source": []
  }
 ],
 "metadata": {
  "kernelspec": {
   "display_name": "Python 3",
   "language": "python",
   "name": "python3"
  },
  "language_info": {
   "codemirror_mode": {
    "name": "ipython",
    "version": 3
   },
   "file_extension": ".py",
   "mimetype": "text/x-python",
   "name": "python",
   "nbconvert_exporter": "python",
   "pygments_lexer": "ipython3",
   "version": "3.8.3"
  }
 },
 "nbformat": 4,
 "nbformat_minor": 4
}
