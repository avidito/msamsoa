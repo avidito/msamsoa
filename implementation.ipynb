{
 "cells": [
  {
   "cell_type": "code",
   "execution_count": 4,
   "metadata": {},
   "outputs": [
    {
     "name": "stdout",
     "output_type": "stream",
     "text": [
      " Volume in drive D is DATA\n",
      " Volume Serial Number is 8EA3-8A78\n",
      "\n",
      " Directory of D:\\project\\msamsoa\n",
      "\n",
      "02/10/2020  10:32    <DIR>          .\n",
      "02/10/2020  10:32    <DIR>          ..\n",
      "02/10/2020  10:45                40 .gitignore\n",
      "02/10/2020  10:32    <DIR>          .ipynb_checkpoints\n",
      "24/07/2020  16:25                 0 __init__.py\n",
      "02/10/2020  10:30    <DIR>          algorithm\n",
      "02/10/2020  10:32               555 implementation.ipynb\n",
      "26/09/2020  09:22    <DIR>          media\n",
      "24/07/2020  16:25             2.749 README.md\n",
      "02/10/2020  10:44    <DIR>          utils\n",
      "               4 File(s)          3.344 bytes\n",
      "               6 Dir(s)  789.785.325.568 bytes free\n"
     ]
    }
   ],
   "source": [
    "ls"
   ]
  },
  {
   "cell_type": "code",
   "execution_count": 6,
   "metadata": {},
   "outputs": [],
   "source": [
    "from algorithm.SAMSOA import SAMSOA_Problem, SAMSOA_Agent"
   ]
  }
 ],
 "metadata": {
  "kernelspec": {
   "display_name": "Python 3",
   "language": "python",
   "name": "python3"
  },
  "language_info": {
   "codemirror_mode": {
    "name": "ipython",
    "version": 3
   },
   "file_extension": ".py",
   "mimetype": "text/x-python",
   "name": "python",
   "nbconvert_exporter": "python",
   "pygments_lexer": "ipython3",
   "version": "3.8.3"
  }
 },
 "nbformat": 4,
 "nbformat_minor": 4
}
